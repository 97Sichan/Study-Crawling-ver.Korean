{
 "cells": [
  {
   "cell_type": "markdown",
   "id": "47ee3fe7",
   "metadata": {},
   "source": [
    "- 웹크롤링은 웹 브라우저를 통해 진행 됨\n",
    "    - 웹 브라우저를 컨트롤 할 수 있어야 함\n",
    "    - 관련 패키지 : webbrowser"
   ]
  },
  {
   "cell_type": "code",
   "execution_count": 3,
   "id": "db2821a1",
   "metadata": {},
   "outputs": [],
   "source": [
    "# 브라우저 컨트롤 모듈 import \n",
    "import webbrowser"
   ]
  },
  {
   "cell_type": "markdown",
   "id": "069d195b",
   "metadata": {},
   "source": [
    "### 브라우저 실행: webbrowser.open('url')\n",
    "- 매개변수: url을 전달 (접속하고자 하는 웹 사이트)\n",
    "    - url은 파라미터를 포함 할 수 있음\n",
    "    - https://search.naver.com/search.naver?where=nexearch&sm=top_hty&fbm=0&ie=utf8&query=python\n",
    "    - https://search.naver.com/search.naver?검색을 위한 필수 주소 \n",
    "    - where=nexearch&sm=top_hty&fbm=0&ie=utf8&query=python - 서버에 전다로디는 파라미터(query=검색어)\n",
    "- 반환값이 True면 브라우저 실행이 정상 완료 "
   ]
  },
  {
   "cell_type": "code",
   "execution_count": 5,
   "id": "c709697e",
   "metadata": {},
   "outputs": [
    {
     "data": {
      "text/plain": [
       "True"
      ]
     },
     "execution_count": 5,
     "metadata": {},
     "output_type": "execute_result"
    }
   ],
   "source": [
    "# 네이버 사이트 브라우저 함수로 접속하기\n",
    "url = 'www.naver.com' # 네이버 도메인\n",
    "webbrowser.open(url)"
   ]
  },
  {
   "cell_type": "code",
   "execution_count": 6,
   "id": "d78de1a9",
   "metadata": {},
   "outputs": [
    {
     "data": {
      "text/plain": [
       "'https://search.naver.com/search.naver?query=django'"
      ]
     },
     "execution_count": 6,
     "metadata": {},
     "output_type": "execute_result"
    }
   ],
   "source": [
    "# 검색어 적용 \n",
    "search_url = 'https://search.naver.com/search.naver?'\n",
    "search = 'query=django'\n",
    "url = search_url + search\n",
    "url"
   ]
  },
  {
   "cell_type": "code",
   "execution_count": 9,
   "id": "c6db61e1",
   "metadata": {},
   "outputs": [
    {
     "data": {
      "text/plain": [
       "True"
      ]
     },
     "execution_count": 9,
     "metadata": {},
     "output_type": "execute_result"
    }
   ],
   "source": [
    "webbrowser.open(url)"
   ]
  },
  {
   "cell_type": "markdown",
   "id": "a3838bdc",
   "metadata": {},
   "source": [
    "### 단, 검색어를 url에 적용시키는 방법은 site마다 다르다 \n",
    "- 구글 검색 URL\n",
    "    - https://www.google.com/search?\n",
    "    q=python&oq=python&aqs=chrome..69i57j69i59j0i131i433i512l8.1172j0j15&sourceid=chrome&ie=UTF-8\n",
    "    - 기본 url: https://www.google.com/search?\n",
    "    - 검색 파라미터: q=검색어\n"
   ]
  },
  {
   "cell_type": "code",
   "execution_count": 10,
   "id": "1eb15781",
   "metadata": {},
   "outputs": [
    {
     "data": {
      "text/plain": [
       "'https://www.google.com/search?q=django'"
      ]
     },
     "execution_count": 10,
     "metadata": {},
     "output_type": "execute_result"
    }
   ],
   "source": [
    "# 구글 site에 검색어 전송\n",
    "google_url = 'https://www.google.com/search?'\n",
    "search = 'q=django'\n",
    "url = google_url + search\n",
    "url"
   ]
  },
  {
   "cell_type": "code",
   "execution_count": 11,
   "id": "457fe94e",
   "metadata": {},
   "outputs": [
    {
     "data": {
      "text/plain": [
       "True"
      ]
     },
     "execution_count": 11,
     "metadata": {},
     "output_type": "execute_result"
    }
   ],
   "source": [
    "webbrowser.open(url)"
   ]
  },
  {
   "cell_type": "code",
   "execution_count": 12,
   "id": "f9bfa031",
   "metadata": {},
   "outputs": [
    {
     "data": {
      "text/plain": [
       "True"
      ]
     },
     "execution_count": 12,
     "metadata": {},
     "output_type": "execute_result"
    }
   ],
   "source": [
    "# 새탭을 생성\n",
    "webbrowser.open_new(url)"
   ]
  },
  {
   "cell_type": "code",
   "execution_count": 13,
   "id": "4e755c13",
   "metadata": {},
   "outputs": [
    {
     "data": {
      "text/plain": [
       "True"
      ]
     },
     "execution_count": 13,
     "metadata": {},
     "output_type": "execute_result"
    }
   ],
   "source": [
    "webbrowser.open(url)"
   ]
  },
  {
   "cell_type": "code",
   "execution_count": 14,
   "id": "c26b00da",
   "metadata": {},
   "outputs": [],
   "source": [
    "# 여러 url에 접속하기 - url list 사용\n",
    "urls = ['www.naver.com','www.daum.net','www.google.com']\n",
    "\n",
    "for url in urls:\n",
    "    webbrowser.open(url)"
   ]
  },
  {
   "cell_type": "code",
   "execution_count": null,
   "id": "b7a777d6",
   "metadata": {},
   "outputs": [],
   "source": []
  },
  {
   "cell_type": "code",
   "execution_count": null,
   "id": "4ec10949",
   "metadata": {},
   "outputs": [],
   "source": []
  },
  {
   "cell_type": "code",
   "execution_count": null,
   "id": "c84385c1",
   "metadata": {},
   "outputs": [],
   "source": []
  }
 ],
 "metadata": {
  "kernelspec": {
   "display_name": "Python 3 (ipykernel)",
   "language": "python",
   "name": "python3"
  },
  "language_info": {
   "codemirror_mode": {
    "name": "ipython",
    "version": 3
   },
   "file_extension": ".py",
   "mimetype": "text/x-python",
   "name": "python",
   "nbconvert_exporter": "python",
   "pygments_lexer": "ipython3",
   "version": "3.9.7"
  }
 },
 "nbformat": 4,
 "nbformat_minor": 5
}
