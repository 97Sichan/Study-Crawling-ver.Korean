{
 "cells": [
  {
   "cell_type": "markdown",
   "id": "43277cd7",
   "metadata": {},
   "source": [
    "- 실습중인 쇼핑몰 상품은 여러페이지에 걸쳐 진열되어 있음\n",
    "    - 함수로 구성 후 여러페이지 크롤링"
   ]
  },
  {
   "cell_type": "code",
   "execution_count": 8,
   "id": "f3d50be8",
   "metadata": {},
   "outputs": [],
   "source": [
    "from urllib.request import urlopen\n",
    "from bs4 import BeautifulSoup\n",
    "import pandas as pd\n",
    "import numpy as np\n",
    "import ssl\n",
    "# context = ssl._create_unverified_context()\n",
    "url=\"http://jolse.com/category/toners-mists/1019/\"\n"
   ]
  },
  {
   "cell_type": "markdown",
   "id": "85ab6061",
   "metadata": {},
   "source": [
    "### 함수를 기능별로 세분화\n",
    "- 요청 및 파싱 객체 생성 : get_request_product(url), 반환값 --> bs4 객체\n",
    "- 전체 정보 추출 : get_page_product(bs_obj)\n",
    "    - bs_obj를 전달받아서\n",
    "    - get_product_info(box)를 호출(제품 1개에 대한 정보가 반환)\n",
    "    - df을 생성 후 저장\n",
    "- 각 제품의 정보 추출 : get_product_info(box)\n",
    "    - 제품정보 1개에 대해 제품명/가격/세일가격을 추출해서 반환"
   ]
  },
  {
   "cell_type": "code",
   "execution_count": 26,
   "id": "d3efad25",
   "metadata": {},
   "outputs": [],
   "source": [
    "prd_dict={'품목': [],\n",
    "         '가격':[],\n",
    "         '세일가격': []}\n",
    "df_fin = pd.DataFrame(prd_dict)"
   ]
  },
  {
   "cell_type": "code",
   "execution_count": 27,
   "id": "1c53664b",
   "metadata": {},
   "outputs": [],
   "source": [
    "# 요청 및 파싱 객체 생성\n",
    "def get_request_product(url):\n",
    "    url = 'http://jolse.com/category/toners-mists/1019/'\n",
    "    htmls = urlopen(url)\n",
    "    htmls = htmls.read()\n",
    "    # 2. 파싱객체 생성\n",
    "    bs_obj = BeautifulSoup(htmls,'html.parser')\n",
    "    \n",
    "    return bs_obj"
   ]
  },
  {
   "cell_type": "code",
   "execution_count": 28,
   "id": "c05d7778",
   "metadata": {},
   "outputs": [],
   "source": [
    "def get_page_product(url):\n",
    "    global df_fin\n",
    "    bs_obj = get_request_product(url)\n",
    "    # 페이지내 전체 제품정보 추출\n",
    "    boxes = bs_obj.findAll('div',{'class':'description'})\n",
    "    # 각 제품에 대한 정보 추출\n",
    "    for box in boxes:\n",
    "        res = pd.DataFrame(get_product_info(box),index=range(1,2))\n",
    "        \n",
    "        df_fin = pd.concat([df_fin,res],axis=0,ignore_index=True)"
   ]
  },
  {
   "cell_type": "code",
   "execution_count": 17,
   "id": "fbba4a9d",
   "metadata": {},
   "outputs": [],
   "source": [
    "def get_product_info(box):\n",
    "    strong_tag = box.find('strong',{'class':'name'})\n",
    "    prd_name = strong_tag.text.split(':')[1]\n",
    "    #가격\n",
    "    price = box.find('ul').findAll('span')[1].text\n",
    "    sale_price = box.find('ul').findAll('span')[-1].text\n",
    "    return {'품목':prd_name, '가격':price,'세일가격':sale_price}"
   ]
  },
  {
   "cell_type": "code",
   "execution_count": 18,
   "id": "a62d314a",
   "metadata": {},
   "outputs": [
    {
     "data": {
      "text/plain": [
       "'http://jolse.com/category/toners-mists/1019/'"
      ]
     },
     "execution_count": 18,
     "metadata": {},
     "output_type": "execute_result"
    }
   ],
   "source": [
    "url"
   ]
  },
  {
   "cell_type": "code",
   "execution_count": 7,
   "id": "800d9d19",
   "metadata": {},
   "outputs": [
    {
     "ename": "HTTPError",
     "evalue": "HTTP Error 502: Bad Gateway",
     "output_type": "error",
     "traceback": [
      "\u001b[1;31m---------------------------------------------------------------------------\u001b[0m",
      "\u001b[1;31mHTTPError\u001b[0m                                 Traceback (most recent call last)",
      "\u001b[1;32m~\\AppData\\Local\\Temp/ipykernel_14716/1718601568.py\u001b[0m in \u001b[0;36m<module>\u001b[1;34m\u001b[0m\n\u001b[1;32m----> 1\u001b[1;33m \u001b[0mget_page_product\u001b[0m\u001b[1;33m(\u001b[0m\u001b[0murl\u001b[0m\u001b[1;33m)\u001b[0m\u001b[1;33m\u001b[0m\u001b[1;33m\u001b[0m\u001b[0m\n\u001b[0m",
      "\u001b[1;32m~\\AppData\\Local\\Temp/ipykernel_14716/1070216114.py\u001b[0m in \u001b[0;36mget_page_product\u001b[1;34m(url)\u001b[0m\n\u001b[0;32m      1\u001b[0m \u001b[1;32mdef\u001b[0m \u001b[0mget_page_product\u001b[0m\u001b[1;33m(\u001b[0m\u001b[0murl\u001b[0m\u001b[1;33m)\u001b[0m\u001b[1;33m:\u001b[0m\u001b[1;33m\u001b[0m\u001b[1;33m\u001b[0m\u001b[0m\n\u001b[0;32m      2\u001b[0m     \u001b[1;32mglobal\u001b[0m \u001b[0mdf_fin\u001b[0m\u001b[1;33m\u001b[0m\u001b[1;33m\u001b[0m\u001b[0m\n\u001b[1;32m----> 3\u001b[1;33m     \u001b[0mbs_obj\u001b[0m \u001b[1;33m=\u001b[0m \u001b[0mget_request_product\u001b[0m\u001b[1;33m(\u001b[0m\u001b[0murl\u001b[0m\u001b[1;33m)\u001b[0m\u001b[1;33m\u001b[0m\u001b[1;33m\u001b[0m\u001b[0m\n\u001b[0m\u001b[0;32m      4\u001b[0m     \u001b[1;31m# 페이지내 전체 제품정보 추출\u001b[0m\u001b[1;33m\u001b[0m\u001b[1;33m\u001b[0m\u001b[0m\n\u001b[0;32m      5\u001b[0m     \u001b[0mboxes\u001b[0m \u001b[1;33m=\u001b[0m \u001b[0mbs_obj\u001b[0m\u001b[1;33m.\u001b[0m\u001b[0mfindAll\u001b[0m\u001b[1;33m(\u001b[0m\u001b[1;34m'div'\u001b[0m\u001b[1;33m,\u001b[0m\u001b[1;33m{\u001b[0m\u001b[1;34m'class'\u001b[0m\u001b[1;33m:\u001b[0m\u001b[1;34m'description'\u001b[0m\u001b[1;33m}\u001b[0m\u001b[1;33m)\u001b[0m\u001b[1;33m\u001b[0m\u001b[1;33m\u001b[0m\u001b[0m\n",
      "\u001b[1;32m~\\AppData\\Local\\Temp/ipykernel_14716/3661814995.py\u001b[0m in \u001b[0;36mget_request_product\u001b[1;34m(url)\u001b[0m\n\u001b[0;32m      2\u001b[0m \u001b[1;32mdef\u001b[0m \u001b[0mget_request_product\u001b[0m\u001b[1;33m(\u001b[0m\u001b[0murl\u001b[0m\u001b[1;33m)\u001b[0m\u001b[1;33m:\u001b[0m\u001b[1;33m\u001b[0m\u001b[1;33m\u001b[0m\u001b[0m\n\u001b[0;32m      3\u001b[0m     \u001b[0murl\u001b[0m \u001b[1;33m=\u001b[0m \u001b[1;34m'http://jolse.com/category/toners-mists/1019/'\u001b[0m\u001b[1;33m\u001b[0m\u001b[1;33m\u001b[0m\u001b[0m\n\u001b[1;32m----> 4\u001b[1;33m     \u001b[0mhtmls\u001b[0m \u001b[1;33m=\u001b[0m \u001b[0murlopen\u001b[0m\u001b[1;33m(\u001b[0m\u001b[0murl\u001b[0m\u001b[1;33m)\u001b[0m\u001b[1;33m\u001b[0m\u001b[1;33m\u001b[0m\u001b[0m\n\u001b[0m\u001b[0;32m      5\u001b[0m     \u001b[0mhtmls\u001b[0m \u001b[1;33m=\u001b[0m \u001b[0mhtmls\u001b[0m\u001b[1;33m.\u001b[0m\u001b[0mread\u001b[0m\u001b[1;33m(\u001b[0m\u001b[1;33m)\u001b[0m\u001b[1;33m\u001b[0m\u001b[1;33m\u001b[0m\u001b[0m\n\u001b[0;32m      6\u001b[0m     \u001b[1;31m# 2. 파싱객체 생성\u001b[0m\u001b[1;33m\u001b[0m\u001b[1;33m\u001b[0m\u001b[0m\n",
      "\u001b[1;32mC:\\ProgramData\\Anaconda3\\lib\\urllib\\request.py\u001b[0m in \u001b[0;36murlopen\u001b[1;34m(url, data, timeout, cafile, capath, cadefault, context)\u001b[0m\n\u001b[0;32m    212\u001b[0m     \u001b[1;32melse\u001b[0m\u001b[1;33m:\u001b[0m\u001b[1;33m\u001b[0m\u001b[1;33m\u001b[0m\u001b[0m\n\u001b[0;32m    213\u001b[0m         \u001b[0mopener\u001b[0m \u001b[1;33m=\u001b[0m \u001b[0m_opener\u001b[0m\u001b[1;33m\u001b[0m\u001b[1;33m\u001b[0m\u001b[0m\n\u001b[1;32m--> 214\u001b[1;33m     \u001b[1;32mreturn\u001b[0m \u001b[0mopener\u001b[0m\u001b[1;33m.\u001b[0m\u001b[0mopen\u001b[0m\u001b[1;33m(\u001b[0m\u001b[0murl\u001b[0m\u001b[1;33m,\u001b[0m \u001b[0mdata\u001b[0m\u001b[1;33m,\u001b[0m \u001b[0mtimeout\u001b[0m\u001b[1;33m)\u001b[0m\u001b[1;33m\u001b[0m\u001b[1;33m\u001b[0m\u001b[0m\n\u001b[0m\u001b[0;32m    215\u001b[0m \u001b[1;33m\u001b[0m\u001b[0m\n\u001b[0;32m    216\u001b[0m \u001b[1;32mdef\u001b[0m \u001b[0minstall_opener\u001b[0m\u001b[1;33m(\u001b[0m\u001b[0mopener\u001b[0m\u001b[1;33m)\u001b[0m\u001b[1;33m:\u001b[0m\u001b[1;33m\u001b[0m\u001b[1;33m\u001b[0m\u001b[0m\n",
      "\u001b[1;32mC:\\ProgramData\\Anaconda3\\lib\\urllib\\request.py\u001b[0m in \u001b[0;36mopen\u001b[1;34m(self, fullurl, data, timeout)\u001b[0m\n\u001b[0;32m    521\u001b[0m         \u001b[1;32mfor\u001b[0m \u001b[0mprocessor\u001b[0m \u001b[1;32min\u001b[0m \u001b[0mself\u001b[0m\u001b[1;33m.\u001b[0m\u001b[0mprocess_response\u001b[0m\u001b[1;33m.\u001b[0m\u001b[0mget\u001b[0m\u001b[1;33m(\u001b[0m\u001b[0mprotocol\u001b[0m\u001b[1;33m,\u001b[0m \u001b[1;33m[\u001b[0m\u001b[1;33m]\u001b[0m\u001b[1;33m)\u001b[0m\u001b[1;33m:\u001b[0m\u001b[1;33m\u001b[0m\u001b[1;33m\u001b[0m\u001b[0m\n\u001b[0;32m    522\u001b[0m             \u001b[0mmeth\u001b[0m \u001b[1;33m=\u001b[0m \u001b[0mgetattr\u001b[0m\u001b[1;33m(\u001b[0m\u001b[0mprocessor\u001b[0m\u001b[1;33m,\u001b[0m \u001b[0mmeth_name\u001b[0m\u001b[1;33m)\u001b[0m\u001b[1;33m\u001b[0m\u001b[1;33m\u001b[0m\u001b[0m\n\u001b[1;32m--> 523\u001b[1;33m             \u001b[0mresponse\u001b[0m \u001b[1;33m=\u001b[0m \u001b[0mmeth\u001b[0m\u001b[1;33m(\u001b[0m\u001b[0mreq\u001b[0m\u001b[1;33m,\u001b[0m \u001b[0mresponse\u001b[0m\u001b[1;33m)\u001b[0m\u001b[1;33m\u001b[0m\u001b[1;33m\u001b[0m\u001b[0m\n\u001b[0m\u001b[0;32m    524\u001b[0m \u001b[1;33m\u001b[0m\u001b[0m\n\u001b[0;32m    525\u001b[0m         \u001b[1;32mreturn\u001b[0m \u001b[0mresponse\u001b[0m\u001b[1;33m\u001b[0m\u001b[1;33m\u001b[0m\u001b[0m\n",
      "\u001b[1;32mC:\\ProgramData\\Anaconda3\\lib\\urllib\\request.py\u001b[0m in \u001b[0;36mhttp_response\u001b[1;34m(self, request, response)\u001b[0m\n\u001b[0;32m    630\u001b[0m         \u001b[1;31m# request was successfully received, understood, and accepted.\u001b[0m\u001b[1;33m\u001b[0m\u001b[1;33m\u001b[0m\u001b[0m\n\u001b[0;32m    631\u001b[0m         \u001b[1;32mif\u001b[0m \u001b[1;32mnot\u001b[0m \u001b[1;33m(\u001b[0m\u001b[1;36m200\u001b[0m \u001b[1;33m<=\u001b[0m \u001b[0mcode\u001b[0m \u001b[1;33m<\u001b[0m \u001b[1;36m300\u001b[0m\u001b[1;33m)\u001b[0m\u001b[1;33m:\u001b[0m\u001b[1;33m\u001b[0m\u001b[1;33m\u001b[0m\u001b[0m\n\u001b[1;32m--> 632\u001b[1;33m             response = self.parent.error(\n\u001b[0m\u001b[0;32m    633\u001b[0m                 'http', request, response, code, msg, hdrs)\n\u001b[0;32m    634\u001b[0m \u001b[1;33m\u001b[0m\u001b[0m\n",
      "\u001b[1;32mC:\\ProgramData\\Anaconda3\\lib\\urllib\\request.py\u001b[0m in \u001b[0;36merror\u001b[1;34m(self, proto, *args)\u001b[0m\n\u001b[0;32m    559\u001b[0m         \u001b[1;32mif\u001b[0m \u001b[0mhttp_err\u001b[0m\u001b[1;33m:\u001b[0m\u001b[1;33m\u001b[0m\u001b[1;33m\u001b[0m\u001b[0m\n\u001b[0;32m    560\u001b[0m             \u001b[0margs\u001b[0m \u001b[1;33m=\u001b[0m \u001b[1;33m(\u001b[0m\u001b[0mdict\u001b[0m\u001b[1;33m,\u001b[0m \u001b[1;34m'default'\u001b[0m\u001b[1;33m,\u001b[0m \u001b[1;34m'http_error_default'\u001b[0m\u001b[1;33m)\u001b[0m \u001b[1;33m+\u001b[0m \u001b[0morig_args\u001b[0m\u001b[1;33m\u001b[0m\u001b[1;33m\u001b[0m\u001b[0m\n\u001b[1;32m--> 561\u001b[1;33m             \u001b[1;32mreturn\u001b[0m \u001b[0mself\u001b[0m\u001b[1;33m.\u001b[0m\u001b[0m_call_chain\u001b[0m\u001b[1;33m(\u001b[0m\u001b[1;33m*\u001b[0m\u001b[0margs\u001b[0m\u001b[1;33m)\u001b[0m\u001b[1;33m\u001b[0m\u001b[1;33m\u001b[0m\u001b[0m\n\u001b[0m\u001b[0;32m    562\u001b[0m \u001b[1;33m\u001b[0m\u001b[0m\n\u001b[0;32m    563\u001b[0m \u001b[1;31m# XXX probably also want an abstract factory that knows when it makes\u001b[0m\u001b[1;33m\u001b[0m\u001b[1;33m\u001b[0m\u001b[0m\n",
      "\u001b[1;32mC:\\ProgramData\\Anaconda3\\lib\\urllib\\request.py\u001b[0m in \u001b[0;36m_call_chain\u001b[1;34m(self, chain, kind, meth_name, *args)\u001b[0m\n\u001b[0;32m    492\u001b[0m         \u001b[1;32mfor\u001b[0m \u001b[0mhandler\u001b[0m \u001b[1;32min\u001b[0m \u001b[0mhandlers\u001b[0m\u001b[1;33m:\u001b[0m\u001b[1;33m\u001b[0m\u001b[1;33m\u001b[0m\u001b[0m\n\u001b[0;32m    493\u001b[0m             \u001b[0mfunc\u001b[0m \u001b[1;33m=\u001b[0m \u001b[0mgetattr\u001b[0m\u001b[1;33m(\u001b[0m\u001b[0mhandler\u001b[0m\u001b[1;33m,\u001b[0m \u001b[0mmeth_name\u001b[0m\u001b[1;33m)\u001b[0m\u001b[1;33m\u001b[0m\u001b[1;33m\u001b[0m\u001b[0m\n\u001b[1;32m--> 494\u001b[1;33m             \u001b[0mresult\u001b[0m \u001b[1;33m=\u001b[0m \u001b[0mfunc\u001b[0m\u001b[1;33m(\u001b[0m\u001b[1;33m*\u001b[0m\u001b[0margs\u001b[0m\u001b[1;33m)\u001b[0m\u001b[1;33m\u001b[0m\u001b[1;33m\u001b[0m\u001b[0m\n\u001b[0m\u001b[0;32m    495\u001b[0m             \u001b[1;32mif\u001b[0m \u001b[0mresult\u001b[0m \u001b[1;32mis\u001b[0m \u001b[1;32mnot\u001b[0m \u001b[1;32mNone\u001b[0m\u001b[1;33m:\u001b[0m\u001b[1;33m\u001b[0m\u001b[1;33m\u001b[0m\u001b[0m\n\u001b[0;32m    496\u001b[0m                 \u001b[1;32mreturn\u001b[0m \u001b[0mresult\u001b[0m\u001b[1;33m\u001b[0m\u001b[1;33m\u001b[0m\u001b[0m\n",
      "\u001b[1;32mC:\\ProgramData\\Anaconda3\\lib\\urllib\\request.py\u001b[0m in \u001b[0;36mhttp_error_default\u001b[1;34m(self, req, fp, code, msg, hdrs)\u001b[0m\n\u001b[0;32m    639\u001b[0m \u001b[1;32mclass\u001b[0m \u001b[0mHTTPDefaultErrorHandler\u001b[0m\u001b[1;33m(\u001b[0m\u001b[0mBaseHandler\u001b[0m\u001b[1;33m)\u001b[0m\u001b[1;33m:\u001b[0m\u001b[1;33m\u001b[0m\u001b[1;33m\u001b[0m\u001b[0m\n\u001b[0;32m    640\u001b[0m     \u001b[1;32mdef\u001b[0m \u001b[0mhttp_error_default\u001b[0m\u001b[1;33m(\u001b[0m\u001b[0mself\u001b[0m\u001b[1;33m,\u001b[0m \u001b[0mreq\u001b[0m\u001b[1;33m,\u001b[0m \u001b[0mfp\u001b[0m\u001b[1;33m,\u001b[0m \u001b[0mcode\u001b[0m\u001b[1;33m,\u001b[0m \u001b[0mmsg\u001b[0m\u001b[1;33m,\u001b[0m \u001b[0mhdrs\u001b[0m\u001b[1;33m)\u001b[0m\u001b[1;33m:\u001b[0m\u001b[1;33m\u001b[0m\u001b[1;33m\u001b[0m\u001b[0m\n\u001b[1;32m--> 641\u001b[1;33m         \u001b[1;32mraise\u001b[0m \u001b[0mHTTPError\u001b[0m\u001b[1;33m(\u001b[0m\u001b[0mreq\u001b[0m\u001b[1;33m.\u001b[0m\u001b[0mfull_url\u001b[0m\u001b[1;33m,\u001b[0m \u001b[0mcode\u001b[0m\u001b[1;33m,\u001b[0m \u001b[0mmsg\u001b[0m\u001b[1;33m,\u001b[0m \u001b[0mhdrs\u001b[0m\u001b[1;33m,\u001b[0m \u001b[0mfp\u001b[0m\u001b[1;33m)\u001b[0m\u001b[1;33m\u001b[0m\u001b[1;33m\u001b[0m\u001b[0m\n\u001b[0m\u001b[0;32m    642\u001b[0m \u001b[1;33m\u001b[0m\u001b[0m\n\u001b[0;32m    643\u001b[0m \u001b[1;32mclass\u001b[0m \u001b[0mHTTPRedirectHandler\u001b[0m\u001b[1;33m(\u001b[0m\u001b[0mBaseHandler\u001b[0m\u001b[1;33m)\u001b[0m\u001b[1;33m:\u001b[0m\u001b[1;33m\u001b[0m\u001b[1;33m\u001b[0m\u001b[0m\n",
      "\u001b[1;31mHTTPError\u001b[0m: HTTP Error 502: Bad Gateway"
     ]
    }
   ],
   "source": [
    "get_page_product(url)"
   ]
  },
  {
   "cell_type": "code",
   "execution_count": null,
   "id": "72fc0566",
   "metadata": {},
   "outputs": [],
   "source": [
    "df_fin"
   ]
  },
  {
   "cell_type": "markdown",
   "id": "364f8eaf",
   "metadata": {},
   "source": [
    "##  여러 페이지 추출\n",
    "- 해당 쇼핑몰의 url 분석\n",
    "- 각 페이지에 대하여 url에 파라미터가 다르게 전송됨\n",
    "- https://jolse.com/category/toners-mists/1019?page= + 페이지번호\n",
    "- url 작성시 페이지번호를 따로 부착\n"
   ]
  },
  {
   "cell_type": "code",
   "execution_count": null,
   "id": "bfe03d59",
   "metadata": {},
   "outputs": [],
   "source": [
    "base_url ='https://jolse.com/category/toners-mists/1019?page= '\n",
    "for i in range(2,5):\n",
    "    url = base_url + str(i)\n",
    "    get_page_product(url)"
   ]
  },
  {
   "cell_type": "code",
   "execution_count": null,
   "id": "1d380bc3",
   "metadata": {},
   "outputs": [],
   "source": [
    "df_fin"
   ]
  },
  {
   "cell_type": "code",
   "execution_count": null,
   "id": "5c9a42ce",
   "metadata": {},
   "outputs": [],
   "source": [
    "# 수집 데이터 저장\n",
    "df_fin.to_csv('./crawl_data/beauty_price.csv')"
   ]
  },
  {
   "cell_type": "markdown",
   "id": "c12b6289",
   "metadata": {},
   "source": [
    "## 연습문제\n",
    "- best 상품에 대해서 첫번째 페이지에서만 추출되고 그 후 페이지에서는 추출되지 않도록 함수 수정\n",
    "- 전체 페이지가 몇페이지인지를 크롤링을 통해서 얻어오고 해당 페이지 수 만큼 크롤링이 되게 코드 수정\n"
   ]
  },
  {
   "cell_type": "code",
   "execution_count": 47,
   "id": "486e6f43",
   "metadata": {},
   "outputs": [],
   "source": [
    "from urllib.request import urlopen\n",
    "from bs4 import BeautifulSoup\n",
    "import pandas as pd\n",
    "import numpy as np\n",
    "import ssl\n",
    "# context = ssl._create_unverified_context()\n"
   ]
  },
  {
   "cell_type": "code",
   "execution_count": 48,
   "id": "f618e2d4",
   "metadata": {},
   "outputs": [],
   "source": [
    "# 요청 및 파싱 객체 생성\n",
    "def get_request_product(url):\n",
    "   \n",
    "    htmls = urlopen(url)\n",
    "    htmls = htmls.read()\n",
    "    # 2. 파싱객체 생성\n",
    "    bs_obj = BeautifulSoup(htmls,'html.parser')\n",
    "    \n",
    "    return bs_obj"
   ]
  },
  {
   "cell_type": "code",
   "execution_count": 49,
   "id": "0b692bfa",
   "metadata": {},
   "outputs": [],
   "source": [
    "# 한 개의 제품에 대한 정보 추출\n",
    "def get_product_info(box):\n",
    "    strong_tag = box.find('strong',{'class':'name'})\n",
    "    prd_name = strong_tag.text.split(':')[1]\n",
    "    #가격\n",
    "    price = box.find('ul').findAll('span')[1].text\n",
    "    sale_price = box.find('ul').findAll('span')[-1].text\n",
    "    return {'품목':prd_name, '가격':price,'세일가격':sale_price}"
   ]
  },
  {
   "cell_type": "code",
   "execution_count": 50,
   "id": "fd07a470",
   "metadata": {},
   "outputs": [],
   "source": [
    "# 초기 호출 함수\n",
    "def get_page_product(url):\n",
    "    global df_fin\n",
    "    # 요청 및 파싱 객체 생성\n",
    "    bs_obj = get_request_product(url) \n",
    "    # 페이지내 전체 제품정보 추출\n",
    "    boxes = bs_obj.findAll('div',{'class':'description'})\n",
    "    \n",
    "    # 1페이지가 아니면 추천제품은 다시 크롤링 하지 않게 조건 식 생성\n",
    "    if url.split('=')[1] != '1':\n",
    "        boxes = boxes[5:len(boxes)]\n",
    "        \n",
    "    # 각 제품에 대한 정보 추출\n",
    "    for box in boxes:\n",
    "        res = pd.DataFrame(get_product_info(box),index=range(1,2))\n",
    "        \n",
    "        df_fin = pd.concat([df_fin,res],axis=0,ignore_index=True)"
   ]
  },
  {
   "cell_type": "code",
   "execution_count": 63,
   "id": "219d0ff6",
   "metadata": {
    "scrolled": true
   },
   "outputs": [],
   "source": [
    "base_url ='https://jolse.com/category/toners-mists/1019?page='\n",
    "for i in range(1,5):\n",
    "    url = base_url + str(i)\n",
    "    get_page_product(url)"
   ]
  },
  {
   "cell_type": "code",
   "execution_count": 64,
   "id": "1e842cc9",
   "metadata": {
    "scrolled": false
   },
   "outputs": [
    {
     "data": {
      "text/html": [
       "<div>\n",
       "<style scoped>\n",
       "    .dataframe tbody tr th:only-of-type {\n",
       "        vertical-align: middle;\n",
       "    }\n",
       "\n",
       "    .dataframe tbody tr th {\n",
       "        vertical-align: top;\n",
       "    }\n",
       "\n",
       "    .dataframe thead th {\n",
       "        text-align: right;\n",
       "    }\n",
       "</style>\n",
       "<table border=\"1\" class=\"dataframe\">\n",
       "  <thead>\n",
       "    <tr style=\"text-align: right;\">\n",
       "      <th></th>\n",
       "      <th>품목</th>\n",
       "      <th>가격</th>\n",
       "      <th>세일가격</th>\n",
       "    </tr>\n",
       "  </thead>\n",
       "  <tbody>\n",
       "    <tr>\n",
       "      <th>0</th>\n",
       "      <td>Abib Heartleaf Calming Toner Skin Booster 200ml</td>\n",
       "      <td>USD 21.00</td>\n",
       "      <td>USD 14.70</td>\n",
       "    </tr>\n",
       "    <tr>\n",
       "      <th>1</th>\n",
       "      <td>SOME BY MI Propolis B5 Glow Barrier Calming T...</td>\n",
       "      <td>USD 22.00</td>\n",
       "      <td>USD 17.60</td>\n",
       "    </tr>\n",
       "    <tr>\n",
       "      <th>2</th>\n",
       "      <td>Cos De BAHA Centella Facial Toner 200ml</td>\n",
       "      <td>USD 16.45</td>\n",
       "      <td>USD 13.98</td>\n",
       "    </tr>\n",
       "    <tr>\n",
       "      <th>3</th>\n",
       "      <td>Haruharu WONDER Black Rice Hyaluronic Toner 3...</td>\n",
       "      <td>USD 37.00</td>\n",
       "      <td>USD 31.45</td>\n",
       "    </tr>\n",
       "    <tr>\n",
       "      <th>4</th>\n",
       "      <td>[+FREE GIFT♥] Haruharu WONDER Black Rice Hyal...</td>\n",
       "      <td>USD 37.00</td>\n",
       "      <td>USD 15.99</td>\n",
       "    </tr>\n",
       "    <tr>\n",
       "      <th>...</th>\n",
       "      <td>...</td>\n",
       "      <td>...</td>\n",
       "      <td>...</td>\n",
       "    </tr>\n",
       "    <tr>\n",
       "      <th>360</th>\n",
       "      <td>MAMONDE Retinol Ampoule Toner 250ml</td>\n",
       "      <td>USD 35.00</td>\n",
       "      <td>USD 29.75</td>\n",
       "    </tr>\n",
       "    <tr>\n",
       "      <th>361</th>\n",
       "      <td>NACIFIC Origin Red Salicylic Acid Toner 150ml</td>\n",
       "      <td>USD 24.00</td>\n",
       "      <td>USD 20.40</td>\n",
       "    </tr>\n",
       "    <tr>\n",
       "      <th>362</th>\n",
       "      <td>SKIN1004 Madagascar Centella Poremizing Clear...</td>\n",
       "      <td>USD 21.00</td>\n",
       "      <td>USD 16.80</td>\n",
       "    </tr>\n",
       "    <tr>\n",
       "      <th>363</th>\n",
       "      <td>ROUND LAB 1025 Dokdo On The Go Kit</td>\n",
       "      <td>USD 25.00</td>\n",
       "      <td>USD 21.25</td>\n",
       "    </tr>\n",
       "    <tr>\n",
       "      <th>364</th>\n",
       "      <td>CNP Propolis Treatment Ampoule Essence 150ml</td>\n",
       "      <td>USD 33.00</td>\n",
       "      <td>USD 24.75</td>\n",
       "    </tr>\n",
       "  </tbody>\n",
       "</table>\n",
       "<p>365 rows × 3 columns</p>\n",
       "</div>"
      ],
      "text/plain": [
       "                                                    품목         가격       세일가격\n",
       "0      Abib Heartleaf Calming Toner Skin Booster 200ml  USD 21.00  USD 14.70\n",
       "1     SOME BY MI Propolis B5 Glow Barrier Calming T...  USD 22.00  USD 17.60\n",
       "2              Cos De BAHA Centella Facial Toner 200ml  USD 16.45  USD 13.98\n",
       "3     Haruharu WONDER Black Rice Hyaluronic Toner 3...  USD 37.00  USD 31.45\n",
       "4     [+FREE GIFT♥] Haruharu WONDER Black Rice Hyal...  USD 37.00  USD 15.99\n",
       "..                                                 ...        ...        ...\n",
       "360                MAMONDE Retinol Ampoule Toner 250ml  USD 35.00  USD 29.75\n",
       "361      NACIFIC Origin Red Salicylic Acid Toner 150ml  USD 24.00  USD 20.40\n",
       "362   SKIN1004 Madagascar Centella Poremizing Clear...  USD 21.00  USD 16.80\n",
       "363                 ROUND LAB 1025 Dokdo On The Go Kit  USD 25.00  USD 21.25\n",
       "364       CNP Propolis Treatment Ampoule Essence 150ml  USD 33.00  USD 24.75\n",
       "\n",
       "[365 rows x 3 columns]"
      ]
     },
     "execution_count": 64,
     "metadata": {},
     "output_type": "execute_result"
    }
   ],
   "source": [
    "df_fin"
   ]
  },
  {
   "cell_type": "code",
   "execution_count": 65,
   "id": "b754c700",
   "metadata": {},
   "outputs": [
    {
     "data": {
      "text/html": [
       "<div>\n",
       "<style scoped>\n",
       "    .dataframe tbody tr th:only-of-type {\n",
       "        vertical-align: middle;\n",
       "    }\n",
       "\n",
       "    .dataframe tbody tr th {\n",
       "        vertical-align: top;\n",
       "    }\n",
       "\n",
       "    .dataframe thead th {\n",
       "        text-align: right;\n",
       "    }\n",
       "</style>\n",
       "<table border=\"1\" class=\"dataframe\">\n",
       "  <thead>\n",
       "    <tr style=\"text-align: right;\">\n",
       "      <th></th>\n",
       "      <th>품목</th>\n",
       "      <th>가격</th>\n",
       "      <th>세일가격</th>\n",
       "    </tr>\n",
       "  </thead>\n",
       "  <tbody>\n",
       "    <tr>\n",
       "      <th>0</th>\n",
       "      <td>Abib Heartleaf Calming Toner Skin Booster 200ml</td>\n",
       "      <td>USD 21.00</td>\n",
       "      <td>USD 14.70</td>\n",
       "    </tr>\n",
       "    <tr>\n",
       "      <th>25</th>\n",
       "      <td>Abib Heartleaf Calming Toner Skin Booster 200ml</td>\n",
       "      <td>USD 21.00</td>\n",
       "      <td>USD 14.70</td>\n",
       "    </tr>\n",
       "    <tr>\n",
       "      <th>50</th>\n",
       "      <td>Abib Heartleaf Calming Toner Skin Booster 200ml</td>\n",
       "      <td>USD 21.00</td>\n",
       "      <td>USD 14.70</td>\n",
       "    </tr>\n",
       "    <tr>\n",
       "      <th>195</th>\n",
       "      <td>Abib Heartleaf Calming Toner Skin Booster 200ml</td>\n",
       "      <td>USD 21.00</td>\n",
       "      <td>USD 14.70</td>\n",
       "    </tr>\n",
       "    <tr>\n",
       "      <th>280</th>\n",
       "      <td>Abib Heartleaf Calming Toner Skin Booster 200ml</td>\n",
       "      <td>USD 21.00</td>\n",
       "      <td>USD 14.70</td>\n",
       "    </tr>\n",
       "  </tbody>\n",
       "</table>\n",
       "</div>"
      ],
      "text/plain": [
       "                                                   품목         가격       세일가격\n",
       "0     Abib Heartleaf Calming Toner Skin Booster 200ml  USD 21.00  USD 14.70\n",
       "25    Abib Heartleaf Calming Toner Skin Booster 200ml  USD 21.00  USD 14.70\n",
       "50    Abib Heartleaf Calming Toner Skin Booster 200ml  USD 21.00  USD 14.70\n",
       "195   Abib Heartleaf Calming Toner Skin Booster 200ml  USD 21.00  USD 14.70\n",
       "280   Abib Heartleaf Calming Toner Skin Booster 200ml  USD 21.00  USD 14.70"
      ]
     },
     "execution_count": 65,
     "metadata": {},
     "output_type": "execute_result"
    }
   ],
   "source": [
    "df_fin[df_fin['품목']==df_fin['품목'][0]]"
   ]
  },
  {
   "cell_type": "code",
   "execution_count": 44,
   "id": "0c85d42e",
   "metadata": {},
   "outputs": [],
   "source": [
    "url = 'https://jolse.com/category/toners-mists/1019?page=2' "
   ]
  },
  {
   "cell_type": "code",
   "execution_count": 45,
   "id": "2d2d94dc",
   "metadata": {},
   "outputs": [
    {
     "data": {
      "text/plain": [
       "True"
      ]
     },
     "execution_count": 45,
     "metadata": {},
     "output_type": "execute_result"
    }
   ],
   "source": [
    "url.split('=')[1] !='1'"
   ]
  },
  {
   "cell_type": "code",
   "execution_count": 55,
   "id": "067dfabd",
   "metadata": {},
   "outputs": [],
   "source": [
    "# 마지막 페이지 추출\n",
    "import ssl\n",
    "context = ssl._create_unverified_context()\n",
    "url = 'https://jolse.com/category/toners-mists/1019/'\n",
    "html = urlopen(url, context=context)\n",
    "htmls = html.read()\n"
   ]
  },
  {
   "cell_type": "code",
   "execution_count": 59,
   "id": "f2c3fafe",
   "metadata": {},
   "outputs": [
    {
     "data": {
      "text/plain": [
       "29"
      ]
     },
     "execution_count": 59,
     "metadata": {},
     "output_type": "execute_result"
    }
   ],
   "source": [
    "# 2. 파싱객체 생성\n",
    "bs_obj = BeautifulSoup(htmls,'html.parser')\n",
    "# >> <a class = last href = https://jolse.com/category/toners-mists/1019?page=27> >> </a>\n",
    "last_page = bs_obj.find('a',{'class':'last'})\n",
    "last_page\n",
    "last_page = bs_obj.find('a',{'class':'last'})['href']\n",
    "last_page\n",
    "last_page = bs_obj.find('a',{'class':'last'})['href'].split('=')[1]\n",
    "last_page\n",
    "int(last_page)"
   ]
  },
  {
   "cell_type": "code",
   "execution_count": 66,
   "id": "eeebfe4b",
   "metadata": {},
   "outputs": [],
   "source": [
    "base_url ='https://jolse.com/category/toners-mists/1019?page='\n",
    "for i in range(1,int(last_page)+1):\n",
    "    url = base_url + str(i)\n",
    "    get_page_product(url)"
   ]
  },
  {
   "cell_type": "code",
   "execution_count": null,
   "id": "4a930544",
   "metadata": {},
   "outputs": [],
   "source": [
    "base_url = \n",
    "# 2. 파싱객체 생성\n",
    "bs_obj = BeautifulSoup(htmls,'html.parser')\n",
    "# >> <a class=last href = ?page=27> >> </a>\n",
    "last_page = bs_obj.find('a',{'class':'last'})\n",
    "last_page\n",
    "last_page = bs_obj.find('a',{'class':'last'})['href']\n",
    "last_page\n",
    "last_page = bs_obj.find('a',{'class':'last'})['href'].split('=')[1]\n",
    "last_page\n",
    "int(last_page)\n",
    "\n",
    "# 마지막 페이지 추출\n",
    "import ssl\n",
    "context = ssl._create_unverified_context()\n",
    "url = 'https://jolse.com/category/toners-mists/1019/'\n",
    "html = urlopen(url, context=context)\n",
    "htmls = html.read()\n"
   ]
  },
  {
   "cell_type": "code",
   "execution_count": null,
   "id": "ac1c4378",
   "metadata": {},
   "outputs": [],
   "source": []
  },
  {
   "cell_type": "code",
   "execution_count": null,
   "id": "d1d8e833",
   "metadata": {},
   "outputs": [],
   "source": []
  },
  {
   "cell_type": "code",
   "execution_count": null,
   "id": "537b3114",
   "metadata": {},
   "outputs": [],
   "source": []
  }
 ],
 "metadata": {
  "kernelspec": {
   "display_name": "Python 3 (ipykernel)",
   "language": "python",
   "name": "python3"
  },
  "language_info": {
   "codemirror_mode": {
    "name": "ipython",
    "version": 3
   },
   "file_extension": ".py",
   "mimetype": "text/x-python",
   "name": "python",
   "nbconvert_exporter": "python",
   "pygments_lexer": "ipython3",
   "version": "3.9.7"
  }
 },
 "nbformat": 4,
 "nbformat_minor": 5
}
